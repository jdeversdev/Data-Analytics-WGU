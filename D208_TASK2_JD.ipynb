{
  "nbformat": 4,
  "nbformat_minor": 0,
  "metadata": {
    "colab": {
      "provenance": [],
      "authorship_tag": "ABX9TyPvYmoClz1rS3i7swZALcLD",
      "include_colab_link": true
    },
    "kernelspec": {
      "name": "python3",
      "display_name": "Python 3"
    },
    "language_info": {
      "name": "python"
    }
  },
  "cells": [
    {
      "cell_type": "markdown",
      "metadata": {
        "id": "view-in-github",
        "colab_type": "text"
      },
      "source": [
        "<a href=\"https://colab.research.google.com/github/jdeversdev/Data-Analytics-WGU/blob/master/D208_TASK2_JD.ipynb\" target=\"_parent\"><img src=\"https://colab.research.google.com/assets/colab-badge.svg\" alt=\"Open In Colab\"/></a>"
      ]
    },
    {
      "cell_type": "markdown",
      "source": [
        "# Part I: Research Question\n",
        "\n",
        "**A1.** Does the marital status of a patient significantly predict whether they will be readmitted to the hospital?\n",
        "\n",
        "\n",
        "\n",
        "---\n",
        "\n",
        "\n",
        "\n",
        "**A2.**\n",
        "\n",
        "The objectives of the data analysis are to:\n",
        "1. Evaluate the significance of marital status in predicting hospital readmission.\n",
        "2. Construct a logistic regression model for predictive analysis.\n",
        "3. Offer insights into the association between marital status and hospital readmission.\n",
        "4. Facilitate informed decision-making within the project parameters."
      ],
      "metadata": {
        "id": "cOtMb52pJE_N"
      }
    },
    {
      "cell_type": "markdown",
      "source": [
        "# Part II: Method Justification\n",
        "\n",
        "**B1.**\n",
        "\n",
        "The Logistic regression assumptions are the following:\n",
        "\n",
        "1. **Binary Outcome:** Dependent variable has two categories such as yes/no.\n",
        "2. **Independence:** Observations are independent; one observation does not influence another.\n",
        "3. **Linearity:** Relationship between independent variables and log odds of the dependent variable is linear.\n",
        "4. **No Multicollinearity:** Independent variables are not highly correlated; they provide unique information.\n",
        "\n",
        "\n",
        "\n",
        "---\n",
        "\n",
        "\n",
        "\n",
        "**B2.**\n",
        "\n",
        "1. Python provides specialized tools for every stage of data analysis, from data cleaning to machine learning.\n",
        "\n",
        "2. Python's compatibility with other technologies streamlines data processing, making analysis efficient and scalable.\n",
        "\n",
        "\n",
        "\n",
        "---\n",
        "\n",
        "**B3.** Logistic regression is chosen due to its suitability for analyzing binary outcomes, aligning with the prediction of hospital readmission (yes/no) based on marital status. Furthermore, it facilitates the interpretation of results and enables the assessment of the statistical significance of the association.\n",
        "\n"
      ],
      "metadata": {
        "id": "W0t_GPQKOZ5q"
      }
    },
    {
      "cell_type": "markdown",
      "source": [
        "# Part III: Data Preparation\n",
        "\n",
        "**C1.**\n",
        "\n",
        "Certainly:\n",
        "\n",
        "Data Cleaning Goals:\n",
        "1. **Handling Missing Values:** Ensure that there are no missing values in the \"Marital\" and \"ReAdmis\" variables to accurately analyze their relationship.\n",
        "2. **Encoding Categorical Variables:** Convert categorical variables, such as \"Marital\" and \"ReAdmis,\" into numeric format for logistic regression analysis.\n",
        "3. **Removing Irrelevant Variables:** Exclude any variables that are not relevant to the analysis, focusing only on those directly related to marital status and hospital readmission.\n",
        "\n",
        "Steps Used to Clean the Data:\n",
        "1. **Identify Missing Values:** Use descriptive statistics to identify missing values in the \"Marital\" and \"ReAdmis\" variables.\n",
        "2. **Impute or Remove Missing Values:** Depending on the extent of missing values, impute them using appropriate techniques (e.g., mean imputation) or remove the corresponding observations.\n",
        "3. **Encode Categorical Variables:** Convert categorical variables like \"Marital\" and \"ReAdmis\" into binary numeric format (0 or 1) using one-hot encoding or label encoding.\n",
        "4. **Check Variable Relevance:** Review all variables in the dataset and exclude any that are not directly related to marital status or hospital readmission.\n",
        "5. **Validate Data Integrity:** After cleaning, perform a final check to ensure that the data is complete, accurate, and ready for analysis.\n"
      ],
      "metadata": {
        "id": "mCH90gJ1LLWc"
      }
    },
    {
      "cell_type": "code",
      "source": [
        "# Import necessary libraries\n",
        "import pandas as pd\n",
        "import matplotlib.pyplot as plt\n",
        "import seaborn as sns\n",
        "import numpy as np\n",
        "import statsmodels.api as sm\n",
        "from sklearn.preprocessing import StandardScaler\n",
        "\n",
        "# Load the dataset\n",
        "\n",
        "data_csv = '/content/medical_clean.csv'\n",
        "data = pd.read_csv(data_csv)\n",
        "\n",
        "# Display the first few rows of the dataset\n",
        "data.head()\n",
        "\n",
        "# Checking the shape of the dataset\n",
        "data_shape = data.shape\n",
        "print(\"Data shape:\", data_shape)\n",
        "\n",
        "# Checking data types of each column\n",
        "data_types = data.dtypes\n",
        "print(\"Data types:\", data_types)\n",
        "\n",
        "# Checking for duplicates\n",
        "duplicate_count = data.duplicated().sum()\n",
        "print(\"Duplicate count:\", duplicate_count)"
      ],
      "metadata": {
        "colab": {
          "base_uri": "https://localhost:8080/"
        },
        "id": "Xsnj_o8skFvF",
        "outputId": "b1383026-b9a4-44ea-e0d9-8c0737deb5f9"
      },
      "execution_count": null,
      "outputs": [
        {
          "output_type": "stream",
          "name": "stdout",
          "text": [
            "Data shape: (10000, 50)\n",
            "Data types: CaseOrder               int64\n",
            "Customer_id            object\n",
            "Interaction            object\n",
            "UID                    object\n",
            "City                   object\n",
            "State                  object\n",
            "County                 object\n",
            "Zip                     int64\n",
            "Lat                   float64\n",
            "Lng                   float64\n",
            "Population              int64\n",
            "Area                   object\n",
            "TimeZone               object\n",
            "Job                    object\n",
            "Children                int64\n",
            "Age                     int64\n",
            "Income                float64\n",
            "Marital                object\n",
            "Gender                 object\n",
            "ReAdmis                object\n",
            "VitD_levels           float64\n",
            "Doc_visits              int64\n",
            "Full_meals_eaten        int64\n",
            "vitD_supp               int64\n",
            "Soft_drink             object\n",
            "Initial_admin          object\n",
            "HighBlood              object\n",
            "Stroke                 object\n",
            "Complication_risk      object\n",
            "Overweight             object\n",
            "Arthritis              object\n",
            "Diabetes               object\n",
            "Hyperlipidemia         object\n",
            "BackPain               object\n",
            "Anxiety                object\n",
            "Allergic_rhinitis      object\n",
            "Reflux_esophagitis     object\n",
            "Asthma                 object\n",
            "Services               object\n",
            "Initial_days          float64\n",
            "TotalCharge           float64\n",
            "Additional_charges    float64\n",
            "Item1                   int64\n",
            "Item2                   int64\n",
            "Item3                   int64\n",
            "Item4                   int64\n",
            "Item5                   int64\n",
            "Item6                   int64\n",
            "Item7                   int64\n",
            "Item8                   int64\n",
            "dtype: object\n",
            "Duplicate count: 0\n"
          ]
        }
      ]
    },
    {
      "cell_type": "code",
      "source": [
        "# Handling Missing Values\n",
        "# Identify missing values\n",
        "missing_values = data[['Marital', 'ReAdmis']].isnull().sum()\n",
        "print(missing_values)"
      ],
      "metadata": {
        "colab": {
          "base_uri": "https://localhost:8080/"
        },
        "id": "bw8_NpdZkgHg",
        "outputId": "c7de4535-aa64-41c8-c165-c9d4af45bcba"
      },
      "execution_count": null,
      "outputs": [
        {
          "output_type": "stream",
          "name": "stdout",
          "text": [
            "Marital    0\n",
            "ReAdmis    0\n",
            "dtype: int64\n"
          ]
        }
      ]
    },
    {
      "cell_type": "code",
      "source": [
        "# Check data consistency\n",
        "print(data['Marital'].unique())\n",
        "print(data['ReAdmis'].unique())\n",
        "\n",
        "# Check data balance\n",
        "print(data['Marital'].value_counts())\n",
        "print(data['ReAdmis'].value_counts())\n",
        "\n",
        "# Check data completeness\n",
        "print(data.info())"
      ],
      "metadata": {
        "colab": {
          "base_uri": "https://localhost:8080/"
        },
        "id": "LeGD5lvj-t1q",
        "outputId": "e35a10aa-0ddc-4217-e382-d9f7970d21cb"
      },
      "execution_count": null,
      "outputs": [
        {
          "output_type": "stream",
          "name": "stdout",
          "text": [
            "['Divorced' 'Married' 'Widowed' 'Never Married' 'Separated']\n",
            "['No' 'Yes']\n",
            "Widowed          2045\n",
            "Married          2023\n",
            "Separated        1987\n",
            "Never Married    1984\n",
            "Divorced         1961\n",
            "Name: Marital, dtype: int64\n",
            "No     6331\n",
            "Yes    3669\n",
            "Name: ReAdmis, dtype: int64\n",
            "<class 'pandas.core.frame.DataFrame'>\n",
            "RangeIndex: 10000 entries, 0 to 9999\n",
            "Data columns (total 50 columns):\n",
            " #   Column              Non-Null Count  Dtype  \n",
            "---  ------              --------------  -----  \n",
            " 0   CaseOrder           10000 non-null  int64  \n",
            " 1   Customer_id         10000 non-null  object \n",
            " 2   Interaction         10000 non-null  object \n",
            " 3   UID                 10000 non-null  object \n",
            " 4   City                10000 non-null  object \n",
            " 5   State               10000 non-null  object \n",
            " 6   County              10000 non-null  object \n",
            " 7   Zip                 10000 non-null  int64  \n",
            " 8   Lat                 10000 non-null  float64\n",
            " 9   Lng                 10000 non-null  float64\n",
            " 10  Population          10000 non-null  int64  \n",
            " 11  Area                10000 non-null  object \n",
            " 12  TimeZone            10000 non-null  object \n",
            " 13  Job                 10000 non-null  object \n",
            " 14  Children            10000 non-null  int64  \n",
            " 15  Age                 10000 non-null  int64  \n",
            " 16  Income              10000 non-null  float64\n",
            " 17  Marital             10000 non-null  object \n",
            " 18  Gender              10000 non-null  object \n",
            " 19  ReAdmis             10000 non-null  object \n",
            " 20  VitD_levels         10000 non-null  float64\n",
            " 21  Doc_visits          10000 non-null  int64  \n",
            " 22  Full_meals_eaten    10000 non-null  int64  \n",
            " 23  vitD_supp           10000 non-null  int64  \n",
            " 24  Soft_drink          10000 non-null  object \n",
            " 25  Initial_admin       10000 non-null  object \n",
            " 26  HighBlood           10000 non-null  object \n",
            " 27  Stroke              10000 non-null  object \n",
            " 28  Complication_risk   10000 non-null  object \n",
            " 29  Overweight          10000 non-null  object \n",
            " 30  Arthritis           10000 non-null  object \n",
            " 31  Diabetes            10000 non-null  object \n",
            " 32  Hyperlipidemia      10000 non-null  object \n",
            " 33  BackPain            10000 non-null  object \n",
            " 34  Anxiety             10000 non-null  object \n",
            " 35  Allergic_rhinitis   10000 non-null  object \n",
            " 36  Reflux_esophagitis  10000 non-null  object \n",
            " 37  Asthma              10000 non-null  object \n",
            " 38  Services            10000 non-null  object \n",
            " 39  Initial_days        10000 non-null  float64\n",
            " 40  TotalCharge         10000 non-null  float64\n",
            " 41  Additional_charges  10000 non-null  float64\n",
            " 42  Item1               10000 non-null  int64  \n",
            " 43  Item2               10000 non-null  int64  \n",
            " 44  Item3               10000 non-null  int64  \n",
            " 45  Item4               10000 non-null  int64  \n",
            " 46  Item5               10000 non-null  int64  \n",
            " 47  Item6               10000 non-null  int64  \n",
            " 48  Item7               10000 non-null  int64  \n",
            " 49  Item8               10000 non-null  int64  \n",
            "dtypes: float64(7), int64(16), object(27)\n",
            "memory usage: 3.8+ MB\n",
            "None\n"
          ]
        }
      ]
    },
    {
      "cell_type": "code",
      "source": [
        "# Selecting relevant variables\n",
        "relevant_variables = ['Marital', 'ReAdmis']\n",
        "\n",
        "# Creating a new dataframe with only relevant variables\n",
        "relevant_data = data[relevant_variables].copy()\n",
        "\n",
        "# Displaying the first few rows of the new dataframe\n",
        "print(relevant_data.head())\n"
      ],
      "metadata": {
        "colab": {
          "base_uri": "https://localhost:8080/"
        },
        "id": "_PIC9kHa_1T3",
        "outputId": "1af8e8bf-7c38-4287-f1a9-f9465ade3229"
      },
      "execution_count": null,
      "outputs": [
        {
          "output_type": "stream",
          "name": "stdout",
          "text": [
            "    Marital ReAdmis\n",
            "0  Divorced      No\n",
            "1   Married      No\n",
            "2   Widowed      No\n",
            "3   Married      No\n",
            "4   Widowed      No\n"
          ]
        }
      ]
    },
    {
      "cell_type": "markdown",
      "source": [
        "# **C2.**\n",
        "\n",
        "Based on the summary statistics for the independent variables 'Marital' and 'ReAdmis':\n",
        "\n",
        "\n",
        "**ReAdmis:**\n",
        "- There are 6331 instances where patients were not readmitted to the hospital.\n",
        "- There are 3669 instances where patients were readmitted to the hospital.\n",
        "\n",
        "**Marital:**\n",
        "- The most common marital status among patients is Widowed, with 2045 instances.\n",
        "- Following that, Married and Separated are nearly equal in frequency, with 2023 and 1987 instances respectively.\n",
        "- Never Married and Divorced are also close in frequency, with 1984 and 1961 instances respectively.\n",
        "\n",
        "### Summary:\n",
        "- The distribution of hospital readmission cases seems relatively balanced, with a slightly higher count of patients not being readmitted.\n",
        "- Marital status varies among patients, with a notable number of patients being widowed, followed closely by married individuals. Separated, never married, and divorced individuals show relatively similar frequencies."
      ],
      "metadata": {
        "id": "pBhCtrOMBEln"
      }
    },
    {
      "cell_type": "code",
      "source": [
        "# Summary statistics for ReAdmis\n",
        "readmis_value_counts = relevant_data['ReAdmis'].value_counts()\n",
        "\n",
        "# Summary statistics for Marital\n",
        "marital_value_counts = relevant_data['Marital'].value_counts()\n",
        "\n",
        "print(\"Value counts for the ReAdmis variable:\")\n",
        "print(readmis_value_counts)\n",
        "print(\"\\nValue counts for the Marital variable:\")\n",
        "print(marital_value_counts)\n"
      ],
      "metadata": {
        "colab": {
          "base_uri": "https://localhost:8080/"
        },
        "id": "Ulyds_hWAf_d",
        "outputId": "83dd03c1-60f4-4d8e-9204-5877ee4cd5f5"
      },
      "execution_count": null,
      "outputs": [
        {
          "output_type": "stream",
          "name": "stdout",
          "text": [
            "Value counts for the ReAdmis variable:\n",
            "No     6331\n",
            "Yes    3669\n",
            "Name: ReAdmis, dtype: int64\n",
            "\n",
            "Value counts for the Marital variable:\n",
            "Widowed          2045\n",
            "Married          2023\n",
            "Separated        1987\n",
            "Never Married    1984\n",
            "Divorced         1961\n",
            "Name: Marital, dtype: int64\n"
          ]
        }
      ]
    },
    {
      "cell_type": "markdown",
      "source": [
        "# **C3. Distribution (Univariate)**\n",
        "\n",
        "\n",
        "**Marital Distribution:**\n",
        "- The dataset encompasses various marital statuses, including Widowed, Married, Separated, Never Married, and Divorced.\n",
        "- The most common statuses are Widowed and Married, each representing over 2000 instances.\n",
        "- Separated, Never Married, and Divorced categories are also present, with similar frequencies.\n",
        "\n",
        "**Hospital Readmission:**\n",
        "- Around 63.31% of patients were not readmitted, while approximately 36.69% experienced readmission.\n",
        "- This indicates a significant proportion of patients face readmission, prompting further investigation into contributing factors."
      ],
      "metadata": {
        "id": "YcjJkF_mRMJ_"
      }
    },
    {
      "cell_type": "code",
      "source": [
        "# Univariate Statistics for 'Marital'\n",
        "highblood_stats = relevant_data['Marital'].value_counts()\n",
        "print(\"\\nUnivariate Statistics for Marital:\")\n",
        "print(highblood_stats)\n",
        "\n",
        "# Univariate Statistics for 'ReAdmis'\n",
        "readmis_stats = relevant_data['ReAdmis'].value_counts()\n",
        "print(\"\\nUnivariate Statistics for ReAdmis:\")\n",
        "print(readmis_stats)"
      ],
      "metadata": {
        "colab": {
          "base_uri": "https://localhost:8080/"
        },
        "id": "icxn-YLvRNXI",
        "outputId": "0da8e4f1-1409-4cd5-961a-7f701d9dca4a"
      },
      "execution_count": null,
      "outputs": [
        {
          "output_type": "stream",
          "name": "stdout",
          "text": [
            "\n",
            "Univariate Statistics for Marital:\n",
            "Widowed          2045\n",
            "Married          2023\n",
            "Separated        1987\n",
            "Never Married    1984\n",
            "Divorced         1961\n",
            "Name: Marital, dtype: int64\n",
            "\n",
            "Univariate Statistics for ReAdmis:\n",
            "No     6331\n",
            "Yes    3669\n",
            "Name: ReAdmis, dtype: int64\n"
          ]
        }
      ]
    },
    {
      "cell_type": "code",
      "source": [
        "import matplotlib.pyplot as plt\n",
        "\n",
        "# Create a figure and axis objects\n",
        "fig, axs = plt.subplots(1, 2, figsize=(10, 5))\n",
        "\n",
        "# HighBlood\n",
        "axs[0].bar(highblood_stats.index, highblood_stats.values, color=['blue', 'orange'])\n",
        "axs[0].set_title('Distribution of Marital')\n",
        "axs[0].set_xlabel('Marital')\n",
        "axs[0].set_ylabel('Count')\n",
        "\n",
        "# ReAdmis\n",
        "axs[1].bar(readmis_stats.index, readmis_stats.values, color=['blue', 'orange'])\n",
        "axs[1].set_title('Distribution of ReAdmis')\n",
        "axs[1].set_xlabel('ReAdmis')\n",
        "axs[1].set_ylabel('Count')\n",
        "\n",
        "# Display the plots\n",
        "plt.tight_layout()\n",
        "plt.show()\n"
      ],
      "metadata": {
        "colab": {
          "base_uri": "https://localhost:8080/",
          "height": 507
        },
        "id": "dGewmC_ZS6HN",
        "outputId": "4812bd11-3877-4886-dfa4-2ee84f75a511"
      },
      "execution_count": null,
      "outputs": [
        {
          "output_type": "display_data",
          "data": {
            "text/plain": [
              "<Figure size 1000x500 with 2 Axes>"
            ],
            "image/png": "[encoded data removed]"
          },
          "metadata": {}
        }
      ]
    },
    {
      "cell_type": "markdown",
      "source": [
        "# **C3. Distribution (Bivariate):**\n",
        "\n",
        "- **Divorced:** Out of 1961 divorced individuals, 678 (34.6%) were readmitted to the hospital, while 1283 (65.4%) were not.\n",
        "- **Married:** Among 2023 married individuals, 755 (37.3%) experienced hospital readmission, while 1268 (62.7%) did not.\n",
        "- **Never Married:** Of the 1984 individuals who were never married, 741 (37.3%) were readmitted, while 1243 (62.7%) were not.\n",
        "- **Separated:** For the 1987 separated individuals, 728 (36.6%) experienced hospital readmission, while 1259 (63.4%) did not.\n",
        "- **Widowed:** Among 2045 widowed individuals, 767 (37.5%) were readmitted to the hospital, while 1278 (62.5%) were not.\n"
      ],
      "metadata": {
        "id": "D35guSScnqM-"
      }
    },
    {
      "cell_type": "code",
      "source": [
        "# Bivariate Statistics for Categorical-Categorical Relationship\n",
        "cross_tab = pd.crosstab(relevant_data['Marital'], relevant_data['ReAdmis'])\n",
        "print(\"\\nCross-tabulation between Marital and ReAdmis:\")\n",
        "print(cross_tab)"
      ],
      "metadata": {
        "colab": {
          "base_uri": "https://localhost:8080/"
        },
        "id": "ywRMxavwT3gt",
        "outputId": "85e1f833-496b-48d0-b877-a562ef09bcb1"
      },
      "execution_count": null,
      "outputs": [
        {
          "output_type": "stream",
          "name": "stdout",
          "text": [
            "\n",
            "Cross-tabulation between Marital and ReAdmis:\n",
            "ReAdmis          No  Yes\n",
            "Marital                 \n",
            "Divorced       1283  678\n",
            "Married        1268  755\n",
            "Never Married  1243  741\n",
            "Separated      1259  728\n",
            "Widowed        1278  767\n"
          ]
        }
      ]
    },
    {
      "cell_type": "code",
      "source": [
        "# Plotting the cross-tabulation\n",
        "cross_tab.plot(kind='bar', stacked=True, figsize=(10, 6))\n",
        "\n",
        "# Adding labels and title\n",
        "plt.title('Hospital Readmission by Marital Status')\n",
        "plt.xlabel('Marital Status')\n",
        "plt.ylabel('Count')\n",
        "plt.xticks(rotation=45)\n",
        "plt.legend(title='Hospital Readmission', bbox_to_anchor=(1.05, 1), loc='upper left')\n",
        "\n",
        "# Displaying the plot\n",
        "plt.tight_layout()\n",
        "plt.show()\n"
      ],
      "metadata": {
        "colab": {
          "base_uri": "https://localhost:8080/",
          "height": 607
        },
        "id": "XzbGUyqIUd3q",
        "outputId": "4d98d613-bb20-46c5-ef5b-2ca2e61a3edf"
      },
      "execution_count": null,
      "outputs": [
        {
          "output_type": "display_data",
          "data": {
            "text/plain": [
              "<Figure size 1000x600 with 1 Axes>"
            ],
            "image/png": "[encoded data removed]"
          },
          "metadata": {}
        }
      ]
    },
    {
      "cell_type": "markdown",
      "source": [
        "# C4.\n",
        "\n",
        "Data transformation goals:\n",
        "\n",
        "1. Encoding Categorical Variables: Convert categorical variables into a format suitable for analysis, particularly for logistic regression.\n",
        "\n",
        "Steps used to transform the data:\n",
        "\n",
        "1. One-Hot Encoding: Convert categorical variables such as 'Marital' and 'ReAdmis' into binary numeric format using one-hot encoding."
      ],
      "metadata": {
        "id": "xFyUxZO8O3kY"
      }
    },
    {
      "cell_type": "code",
      "source": [
        "# Create a new DataFrame with just the 'ReAdmis' column as binary\n",
        "readmis_binary = data['ReAdmis'].map({'No': 0, 'Yes': 1})\n",
        "prepared_data = pd.concat([readmis_binary, pd.get_dummies(data['Marital'], prefix='Marital', drop_first=False)], axis=1)\n",
        "\n",
        "# Drop the 'Marital_Separated' column\n",
        "prepared_data.drop('Marital_Separated', axis=1, inplace=True)\n",
        "\n",
        "# Rename the ReAdmis column to ReAdmis_Binary\n",
        "prepared_data.rename(columns={'ReAdmis': 'ReAdmis_Binary'}, inplace=True)\n",
        "\n",
        "# Display the new DataFrame\n",
        "print(prepared_data.head())"
      ],
      "metadata": {
        "colab": {
          "base_uri": "https://localhost:8080/"
        },
        "id": "CVY9XXIlO3-n",
        "outputId": "adbc12cb-aa47-494e-d886-1b69a72cb3eb"
      },
      "execution_count": null,
      "outputs": [
        {
          "output_type": "stream",
          "name": "stdout",
          "text": [
            "   ReAdmis_Binary  Marital_Divorced  Marital_Married  Marital_Never Married  \\\n",
            "0               0                 1                0                      0   \n",
            "1               0                 0                1                      0   \n",
            "2               0                 0                0                      0   \n",
            "3               0                 0                1                      0   \n",
            "4               0                 0                0                      0   \n",
            "\n",
            "   Marital_Widowed  \n",
            "0                0  \n",
            "1                0  \n",
            "2                1  \n",
            "3                0  \n",
            "4                1  \n"
          ]
        }
      ]
    },
    {
      "cell_type": "markdown",
      "source": [
        "# **C5.**"
      ],
      "metadata": {
        "id": "75a1pxHKRdVu"
      }
    },
    {
      "cell_type": "code",
      "source": [
        "# Save the prepared data to a CSV file\n",
        "prepared_data.to_csv('/content/prepared_data.csv', index=False)"
      ],
      "metadata": {
        "id": "BnxQwZHVQhcU"
      },
      "execution_count": null,
      "outputs": []
    },
    {
      "cell_type": "markdown",
      "source": [
        "# Part IV: Model Comparison and Analysis"
      ],
      "metadata": {
        "id": "74Dq2ggEnuRV"
      }
    },
    {
      "cell_type": "markdown",
      "source": [
        "Logistic Regression initial model:\n",
        "\n",
        "- The intercept (const) coefficient is -0.5478 with a standard error of 0.047 and a significant z-score of -11.765 (p < 0.001), suggesting a significant effect on the odds of readmission.\n",
        "\n",
        "- The coefficients for marital status categories (Marital_Divorced, Marital_Married, Marital_Never Married, Marital_Widowed) do not show significant effects on the odds of readmission, as indicated by their high p-values (greater than 0.05).\n",
        "\n",
        "Overall, the model did not find a significant relationship between marital status and the likelihood of hospital readmission."
      ],
      "metadata": {
        "id": "cIN2Dos3Cg0a"
      }
    },
    {
      "cell_type": "code",
      "source": [
        "import statsmodels.api as sm\n",
        "\n",
        "# Define independent and dependent variables\n",
        "X = prepared_data[['Marital_Divorced', 'Marital_Married', 'Marital_Never Married', 'Marital_Widowed']]\n",
        "y = prepared_data['ReAdmis_Binary']\n",
        "\n",
        "# Add constant term to the independent variables\n",
        "X = sm.add_constant(X)\n",
        "\n",
        "# Fit logistic regression model\n",
        "logit_model = sm.Logit(y, X)\n",
        "result = logit_model.fit(maxiter=100)\n",
        "\n",
        "# Print summary of the model\n",
        "print(result.summary())\n"
      ],
      "metadata": {
        "colab": {
          "base_uri": "https://localhost:8080/"
        },
        "id": "AjqPTEtoUkn6",
        "outputId": "336ace94-422b-4adf-d5d9-a3d3470078cb"
      },
      "execution_count": null,
      "outputs": [
        {
          "output_type": "stream",
          "name": "stdout",
          "text": [
            "Optimization terminated successfully.\n",
            "         Current function value: 0.657029\n",
            "         Iterations 4\n",
            "                           Logit Regression Results                           \n",
            "==============================================================================\n",
            "Dep. Variable:         ReAdmis_Binary   No. Observations:                10000\n",
            "Model:                          Logit   Df Residuals:                     9995\n",
            "Method:                           MLE   Df Model:                            4\n",
            "Date:                Thu, 21 Mar 2024   Pseudo R-squ.:               0.0003890\n",
            "Time:                        20:07:15   Log-Likelihood:                -6570.3\n",
            "converged:                       True   LL-Null:                       -6572.9\n",
            "Covariance Type:            nonrobust   LLR p-value:                    0.2758\n",
            "=========================================================================================\n",
            "                            coef    std err          z      P>|z|      [0.025      0.975]\n",
            "-----------------------------------------------------------------------------------------\n",
            "const                    -0.5478      0.047    -11.765      0.000      -0.639      -0.457\n",
            "Marital_Divorced         -0.0900      0.067     -1.354      0.176      -0.220       0.040\n",
            "Marital_Married           0.0293      0.065      0.448      0.654      -0.099       0.158\n",
            "Marital_Never Married     0.0305      0.066      0.464      0.643      -0.098       0.159\n",
            "Marital_Widowed           0.0372      0.065      0.570      0.568      -0.091       0.165\n",
            "=========================================================================================\n"
          ]
        }
      ]
    },
    {
      "cell_type": "markdown",
      "source": [
        "# **D2.**\n",
        "RFE (Recursive Feature Elimination) is a machine learning technique that ranks and eliminates features one by one, identifying the most important ones based on their ranking.\n",
        "\n",
        "RFE chose 'Marital_Divorced' as the key predictor for hospital readmission. RFE is robust, evaluating feature importance iteratively. Logistic regression fits binary tasks like readmission prediction. 'Marital_Divorced' was chosen for its high rank, ensuring vital data for the research."
      ],
      "metadata": {
        "id": "hwAORWwSn4Jn"
      }
    },
    {
      "cell_type": "code",
      "source": [
        "from sklearn.feature_selection import RFE\n",
        "from sklearn.linear_model import LogisticRegression\n",
        "\n",
        "# Define the logistic regression model\n",
        "logreg = LogisticRegression()\n",
        "\n",
        "# Define RFE with the logistic regression model\n",
        "rfe = RFE(logreg, n_features_to_select=1)\n",
        "\n",
        "# Fit RFE to the data\n",
        "rfe.fit(X, y)\n",
        "\n",
        "# Print the ranking of each feature\n",
        "print(\"Feature Ranking:\")\n",
        "for i in range(len(X.columns)):\n",
        "    print(f\"Feature {i+1}: {X.columns[i]} - Rank: {rfe.ranking_[i]}\")\n",
        "\n",
        "# Select the features with the highest ranking\n",
        "selected_features = X.columns[rfe.support_]\n",
        "print(\"\\nSelected Features:\", selected_features)\n"
      ],
      "metadata": {
        "colab": {
          "base_uri": "https://localhost:8080/"
        },
        "id": "3kwHk8nmV0v5",
        "outputId": "d29fcaed-1f23-4a85-ea3a-0b7b669bffe5"
      },
      "execution_count": null,
      "outputs": [
        {
          "output_type": "stream",
          "name": "stdout",
          "text": [
            "Feature Ranking:\n",
            "Feature 1: const - Rank: 5\n",
            "Feature 2: Marital_Divorced - Rank: 1\n",
            "Feature 3: Marital_Married - Rank: 4\n",
            "Feature 4: Marital_Never Married - Rank: 3\n",
            "Feature 5: Marital_Widowed - Rank: 2\n",
            "\n",
            "Selected Features: Index(['Marital_Divorced'], dtype='object')\n"
          ]
        }
      ]
    },
    {
      "cell_type": "markdown",
      "source": [
        "# **D3.**\n",
        "\n",
        "- Reduced model with one predictor, Marital_Divorced\n",
        "- Higher pseudo R-squared of 0.0003599 than the initial model\n",
        "- Significant p-value (0.030) for Marital_Divorced\n",
        "- Improved explanatory power and statistical significance compared to the initial model"
      ],
      "metadata": {
        "id": "LsQzN6PNpbkR"
      }
    },
    {
      "cell_type": "code",
      "source": [
        "import statsmodels.api as sm\n",
        "\n",
        "# Define independent variable\n",
        "X_reduced = prepared_data[['Marital_Divorced']]\n",
        "\n",
        "# Add constant term\n",
        "X_reduced = sm.add_constant(X_reduced)\n",
        "\n",
        "# Define dependent variable\n",
        "y_reduced = prepared_data['ReAdmis_Binary']\n",
        "\n",
        "# Fit logistic regression model\n",
        "logit_model_reduced = sm.Logit(y_reduced, X_reduced)\n",
        "result_reduced = logit_model_reduced.fit()\n",
        "\n",
        "# Print summary of the reduced model\n",
        "print(result_reduced.summary())"
      ],
      "metadata": {
        "colab": {
          "base_uri": "https://localhost:8080/"
        },
        "id": "UZfDasQJWpg-",
        "outputId": "ec2540c2-be20-470d-cef4-014955eeb121"
      },
      "execution_count": null,
      "outputs": [
        {
          "output_type": "stream",
          "name": "stdout",
          "text": [
            "Optimization terminated successfully.\n",
            "         Current function value: 0.657049\n",
            "         Iterations 4\n",
            "                           Logit Regression Results                           \n",
            "==============================================================================\n",
            "Dep. Variable:         ReAdmis_Binary   No. Observations:                10000\n",
            "Model:                          Logit   Df Residuals:                     9998\n",
            "Method:                           MLE   Df Model:                            1\n",
            "Date:                Thu, 21 Mar 2024   Pseudo R-squ.:               0.0003599\n",
            "Time:                        20:07:15   Log-Likelihood:                -6570.5\n",
            "converged:                       True   LL-Null:                       -6572.9\n",
            "Covariance Type:            nonrobust   LLR p-value:                   0.02961\n",
            "====================================================================================\n",
            "                       coef    std err          z      P>|z|      [0.025      0.975]\n",
            "------------------------------------------------------------------------------------\n",
            "const               -0.5234      0.023    -22.682      0.000      -0.569      -0.478\n",
            "Marital_Divorced    -0.1144      0.053     -2.168      0.030      -0.218      -0.011\n",
            "====================================================================================\n"
          ]
        }
      ]
    },
    {
      "cell_type": "markdown",
      "source": [
        "# **E1.**\n",
        "\n",
        "**Model Evaluation Metric to compare both models is the following:**\n",
        "\n",
        "* The pseudo R-squared is a measure of how well the independent variables explain the variance in the dependent variable in a regression model. It ranges from 0 to 1, with higher values indicating a better fit\n",
        "\n",
        "**Results:**\n",
        "* The pseudo R-squared values show that reducing the features didn't notably affect the model's explanatory power. The model with just Marital_Divorced performs like the original model with all marital status variables."
      ],
      "metadata": {
        "id": "RyMhWOWWggon"
      }
    },
    {
      "cell_type": "code",
      "source": [
        "# Define independent and dependent variables for the initial model\n",
        "X_initial = prepared_data[['Marital_Divorced', 'Marital_Married', 'Marital_Never Married']]\n",
        "X_initial = sm.add_constant(X_initial)\n",
        "y_initial = prepared_data['ReAdmis_Binary']\n",
        "\n",
        "# Fit the initial logistic regression model\n",
        "logit_model_initial = sm.Logit(y_initial, X_initial)\n",
        "result_initial = logit_model_initial.fit(maxiter=100)\n",
        "\n",
        "# Define independent and dependent variables for the reduced model\n",
        "X_reduced = prepared_data[['Marital_Divorced']]\n",
        "X_reduced = sm.add_constant(X_reduced)\n",
        "y_reduced = prepared_data['ReAdmis_Binary']\n",
        "\n",
        "# Fit the reduced logistic regression model\n",
        "logit_model_reduced = sm.Logit(y_reduced, X_reduced)\n",
        "result_reduced = logit_model_reduced.fit()\n",
        "\n",
        "# Calculate pseudo R-squared values\n",
        "pseudo_r_squared_initial = result_initial.prsquared\n",
        "pseudo_r_squared_reduced = result_reduced.prsquared\n",
        "\n",
        "# Print the pseudo R-squared values\n",
        "print(\"Pseudo R-squared for Initial Model:\", pseudo_r_squared_initial)\n",
        "print(\"Pseudo R-squared for Reduced Model:\", pseudo_r_squared_reduced)\n"
      ],
      "metadata": {
        "id": "ii8J2uEWtN1E",
        "outputId": "393dc329-110c-4dff-da9a-3af99dbe159c",
        "colab": {
          "base_uri": "https://localhost:8080/"
        }
      },
      "execution_count": null,
      "outputs": [
        {
          "output_type": "stream",
          "name": "stdout",
          "text": [
            "Optimization terminated successfully.\n",
            "         Current function value: 0.657046\n",
            "         Iterations 4\n",
            "Optimization terminated successfully.\n",
            "         Current function value: 0.657049\n",
            "         Iterations 4\n",
            "Pseudo R-squared for Initial Model: 0.0003642550367467523\n",
            "Pseudo R-squared for Reduced Model: 0.00035993131190947825\n"
          ]
        }
      ]
    },
    {
      "cell_type": "markdown",
      "source": [
        "# **E2.**\n",
        "\n",
        "The confusion matrix helps evaluate the performance of a classification model, and accuracy measures how often the model makes correct predictions.\n",
        "\n",
        "**Results:**\n",
        "\n",
        "The confusion matrix for the reduced logistic regression model indicates the following:\n",
        "\n",
        "- True Positives (TP): 0 (correctly predicted positive cases)\n",
        "- False Positives (FP): 0 (incorrectly predicted positive cases)\n",
        "- True Negatives (TN): 6331 (correctly predicted negative cases)\n",
        "- False Negatives (FN): 3669 (incorrectly predicted negative cases)\n",
        "\n",
        "The accuracy of the reduced model is approximately 63.31%, which means it correctly predicts the outcome around 63.31% of the time."
      ],
      "metadata": {
        "id": "U-9K1y0RnYHQ"
      }
    },
    {
      "cell_type": "code",
      "source": [
        "from sklearn.metrics import confusion_matrix, accuracy_score\n",
        "\n",
        "# Define the predictions for the reduced model\n",
        "y_pred_reduced = result_reduced.predict(X_reduced)\n",
        "y_pred_binary_reduced = (y_pred_reduced > 0.5).astype(int)\n",
        "\n",
        "# Calculate the confusion matrix\n",
        "conf_matrix_reduced = confusion_matrix(y_reduced, y_pred_binary_reduced)\n",
        "\n",
        "# Calculate the accuracy\n",
        "accuracy_reduced = accuracy_score(y_reduced, y_pred_binary_reduced)\n",
        "\n",
        "# Print the confusion matrix and accuracy\n",
        "print(\"Confusion Matrix for Reduced Model:\")\n",
        "print(conf_matrix_reduced)\n",
        "print(\"\\nAccuracy for Reduced Model:\", accuracy_reduced)\n"
      ],
      "metadata": {
        "colab": {
          "base_uri": "https://localhost:8080/"
        },
        "id": "-6Pf-WMkmak5",
        "outputId": "9fed04d1-2652-43e1-f5d3-0fb94721c3f8"
      },
      "execution_count": null,
      "outputs": [
        {
          "output_type": "stream",
          "name": "stdout",
          "text": [
            "Confusion Matrix for Reduced Model:\n",
            "[[6331    0]\n",
            " [3669    0]]\n",
            "\n",
            "Accuracy for Reduced Model: 0.6331\n"
          ]
        }
      ]
    },
    {
      "cell_type": "markdown",
      "source": [
        "# **E3.** The Python file is available in the submission."
      ],
      "metadata": {
        "id": "I5NhB8Gqo37y"
      }
    },
    {
      "cell_type": "markdown",
      "source": [
        "# Part V: Data Summary and Implications"
      ],
      "metadata": {
        "id": "TRhZBJFIpSeh"
      }
    },
    {
      "cell_type": "markdown",
      "source": [
        "# **F1.**\n",
        "\n",
        "\n",
        "The findings of the data analysis are summarized below:\n",
        "\n",
        "1. **Regression Equation for Reduced Model**:\n",
        "   - The reduced logistic regression equation is: ReAdmis_Binary = −0.5234−0.1144×Marital_Divorced\n",
        "\n",
        "   A formula used in a logistic regression model to predict the probability of hospital readmission (ReAdmis_Binary) based on whether a patient is divorced (Marital_Divorced). The coefficients in the equation (-0.5234 for the constant term and -0.1144 for Marital_Divorced) are used to calculate this probability.\n",
        "\n",
        "2. **Interpretation of Coefficients**:\n",
        "   - The coefficient for 'Marital_Divorced' (-0.1144) indicates a decrease in the likelihood of hospital readmission for divorced individuals.\n",
        "\n",
        "3. **Statistical and Practical Significance**:\n",
        "   - The reduced model's coefficient for 'Marital_Divorced' is statistically significant (p-value = 0.030), showing an impact on readmission.\n",
        "   - However, the model's overall explanatory power (pseudo R-squared = 0.0003599) is very low, suggesting limited practical significance.\n",
        "\n",
        "4. **Limitations**:\n",
        "   - The model overlooks other potential influential factors, leading to oversimplified predictions.\n",
        "   - It may not capture the complete picture of hospital readmission due to its low explanatory power.\n",
        "\n",
        "\n",
        "\n",
        "\n",
        "---\n",
        "\n"
      ],
      "metadata": {
        "id": "XVS-Js_xpVAD"
      }
    },
    {
      "cell_type": "markdown",
      "source": [
        "# **F2.**\n",
        "\n",
        "Based on the results, here are the recommendations:\n",
        "\n",
        "1. **Include More Variables**:\n",
        "   - Incorporate additional relevant variables to capture a more comprehensive picture of hospital readmission factors.\n",
        "\n",
        "2. **Assess Model Performance**:\n",
        "   - Evaluate model performance using metrics beyond statistical significance, such as sensitivity and specificity.\n",
        "\n",
        "3. **Explore Interactions**:\n",
        "   - Investigate potential interactions between variables to uncover nuanced relationships affecting readmission rates.\n",
        "\n",
        "4. **Consider Advanced Techniques**:\n",
        "   - Explore advanced modeling techniques like machine learning algorithms to handle complex relationships and improve prediction accuracy."
      ],
      "metadata": {
        "id": "RZ3nl-4gyAdJ"
      }
    },
    {
      "cell_type": "markdown",
      "source": [
        "# **H.**  N/A"
      ],
      "metadata": {
        "id": "LS8VwN0wVpVy"
      }
    },
    {
      "cell_type": "markdown",
      "source": [
        "### **I.** Brownlee, J. (2023, April 22). \"RFE works by searching for a subset of features by starting with all features in the training dataset and successfully removing features until the desired number remains.\" Retrieved from https://machinelearningmastery.com/rfe-feature-selection-in-python/"
      ],
      "metadata": {
        "id": "7Y3pEprmVwYM"
      }
    }
  ]
}