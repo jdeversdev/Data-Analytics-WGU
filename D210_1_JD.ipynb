{
  "nbformat": 4,
  "nbformat_minor": 0,
  "metadata": {
    "colab": {
      "provenance": [],
      "authorship_tag": "ABX9TyO6Y78sL6xW1cNSr9EfXpNg",
      "include_colab_link": true
    },
    "kernelspec": {
      "name": "python3",
      "display_name": "Python 3"
    },
    "language_info": {
      "name": "python"
    }
  },
  "cells": [
    {
      "cell_type": "markdown",
      "metadata": {
        "id": "view-in-github",
        "colab_type": "text"
      },
      "source": [
        "<a href=\"https://colab.research.google.com/github/jdeversdev/Data-Analytics-WGU/blob/master/D210_1_JD.ipynb\" target=\"_parent\"><img src=\"https://colab.research.google.com/assets/colab-badge.svg\" alt=\"Open In Colab\"/></a>"
      ]
    },
    {
      "cell_type": "markdown",
      "source": [
        "# Part 1: Interactive Data Dashboard\n",
        "---\n",
        "\n",
        "**A1.** The Tableau link is attached and includes the dashboard with all requirements.\n",
        "\n",
        "**A2.** The data sources, Health (CDC) and Medical (WGU), are included in the submission as well.\n",
        "\n",
        "**A3.** The dashboard is immediately accessible through the Tableau Public link and does not require any advanced setup, as it has been configured already.\n",
        "\n",
        "**A4.** To navigate the dashboard, click on each title section and interact with the dashboard as desired.\n",
        "\n",
        "[Tableau Link](https://public.tableau.com/app/profile/jaime7515/viz/Patients_WGU__ExternalDS/Story1)"
      ],
      "metadata": {
        "id": "xKU1m0L2gdTr"
      }
    },
    {
      "cell_type": "markdown",
      "source": [
        "# Part 2: Storytelling with Data\n",
        "---\n",
        "\n",
        "**B1.** The Panopto multimedia presentation link is attached to this submission.\n",
        "\n"
      ],
      "metadata": {
        "id": "pMyEodVKihmL"
      }
    },
    {
      "cell_type": "markdown",
      "source": [
        "#Part 3: Reflection Paper\n",
        "\n",
        "\n",
        "---\n",
        "\n",
        "**C1.** My dashboard helps peers spot trends in diabetes and overweight rates by age and gender, using KPIs and visual charts. This directly aligns with the data dictionary’s focus on health indicators, like age, gender, and conditions, by turning this data into clear insights for decision-making on at-risk groups.\n",
        "\n",
        "**C2.** The health(CDC) dataset adds more data on the same factors like age, gender, overweight, and diabetes. Combining it with the medical(WGU) dataset helps us compare trends and make our insights more reliable.\n",
        "\n",
        "**C3.**\n",
        "\n",
        "1. **Percentage of Diabetic Patients by Age Group**: This chart shows diabetes rates across age groups. Executives can use it to focus on the age groups most affected by diabetes and plan targeted actions.\n",
        "\n",
        "2. **Diabetic Patients by Overweight Status**: This chart compares diabetic patients who are overweight and those who aren’t. Executives can use it to see the link between diabetes and weight, helping them focus on both issues in health programs.\n",
        "\n",
        "---\n",
        "\n",
        "**C4.**\n",
        "\n",
        "1. **Gender Filter**: This control allows users to filter the data by male or female. It lets users focus on trends specific to each gender, making it easier to compare health patterns between the two groups.\n",
        "\n",
        "2. **Age Slider**: The age slider enables users to adjust the age range displayed in the data. This helps users explore how trends in diabetes and overweight change across different age groups, providing more focused insights.\n",
        "\n",
        "---\n",
        "\n",
        "**C5.** I made sure my dashboard is colorblind-friendly by using high-contrast colors like blue, orange, green, pink, and yellow, which are easy to distinguish. I also added text labels and patterns to make sure the data is clear without relying on color alone.\n",
        "\n",
        "\n",
        "\n",
        "---\n",
        "\n",
        "\n",
        "\n",
        "**C6.**\n",
        "\n",
        "One data representation is the area chart showing the percentage of diabetic patients by age group. It clearly shows how diabetes varies across different ages, helping to identify at-risk groups. The second representation is the bar chart displaying the relationship between diabetes and overweight status, which makes it easy to see how these factors are connected across different patient categories.\n",
        "\n",
        "---\n",
        "\n",
        "**C7.**\n",
        "\n",
        "I kept my audience in mind by focusing on clear, straightforward visuals that highlight key trends, like the link between diabetes and overweight. I used simple charts and avoided complex language, making it easy for them to grasp the important insights quickly.\n",
        "\n",
        "---\n",
        "\n",
        "**C8.**\n",
        "\n",
        "I designed the presentation for universal access by using clear visuals, readable fonts, and a colorblind-friendly palette. The dashboard is easy to navigate, with simple charts and labels to highlight key insights. Additionally, it’s published on Tableau Public, making it easily accessible to any audience online.\n",
        "\n",
        "\n",
        "---\n",
        "\n",
        "\n",
        "**C9.**\n",
        "\n",
        "First, I used clear, easy-to-read visuals to guide the audience through the data, making it simple to understand key trends like diabetes and overweight correlations. Second, I focused on showing real-world insights, such as the impact of age and gender on these conditions, to keep the audience engaged and help them see the relevance of the data to decision-making.\n",
        "\n",
        "\n",
        "\n",
        "---\n",
        "\n",
        "\n",
        "\n",
        "D. [Heart Disease Indicators EDA(CDC) - Kaggle](https://www.kaggle.com/code/alibinkashif/heart-disease-indicators-eda/notebook)"
      ],
      "metadata": {
        "id": "gLWSfVECjeXt"
      }
    }
  ]
}